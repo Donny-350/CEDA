{
 "cells": [
  {
   "cell_type": "code",
   "execution_count": 59,
   "metadata": {
    "collapsed": true
   },
   "outputs": [],
   "source": [
    "import psycopg2\n",
    "import numpy as np\n",
    "import pandas as pd"
   ]
  },
  {
   "cell_type": "code",
   "execution_count": 60,
   "outputs": [],
   "source": [
    "conn = psycopg2.connect(host=\"127.0.0.1\", port=5432,user=\"postgres\",password=\"123456\", database='aidb')\n",
    "cur = conn.cursor()"
   ],
   "metadata": {
    "collapsed": false,
    "pycharm": {
     "name": "#%%\n"
    }
   }
  },
  {
   "cell_type": "code",
   "execution_count": 61,
   "outputs": [],
   "source": [
    "def to_vals(data_list):\n",
    "    for dat in data_list:\n",
    "        val = dat[0]\n",
    "        if val is not None: break\n",
    "    try:\n",
    "        float(val)\n",
    "        return np.array(data_list, dtype=float).squeeze()\n",
    "    except:\n",
    "#         print(val)\n",
    "        res = []\n",
    "        for dat in data_list:\n",
    "            try:\n",
    "                mi = dat[0].timestamp()\n",
    "            except:\n",
    "                mi = 0\n",
    "            res.append(mi)\n",
    "        return np.array(res)"
   ],
   "metadata": {
    "collapsed": false,
    "pycharm": {
     "name": "#%%\n"
    }
   }
  },
  {
   "cell_type": "code",
   "execution_count": 62,
   "outputs": [],
   "source": [
    "forest_schema = {'forest': ['forest.Hillshade_Noon', 'forest.Hillshade_3pm', 'forest.Horizontal_Distance_To_Hydrology', 'forest.Aspect', 'forest.Horizontal_Distance_To_Roadways', 'forest.Elevation', 'forest.Horizontal_Distance_To_Fire_Points', 'forest.Hillshade_9am', 'forest.Vertical_Distance_To_Hydrology', 'forest.Slope']}"
   ],
   "metadata": {
    "collapsed": false,
    "pycharm": {
     "name": "#%%\n"
    }
   }
  },
  {
   "cell_type": "code",
   "execution_count": 63,
   "outputs": [
    {
     "data": {
      "text/plain": "Empty DataFrame\nColumns: [table, column, bins, table_column]\nIndex: []",
      "text/html": "<div>\n<style scoped>\n    .dataframe tbody tr th:only-of-type {\n        vertical-align: middle;\n    }\n\n    .dataframe tbody tr th {\n        vertical-align: top;\n    }\n\n    .dataframe thead th {\n        text-align: right;\n    }\n</style>\n<table border=\"1\" class=\"dataframe\">\n  <thead>\n    <tr style=\"text-align: right;\">\n      <th></th>\n      <th>table</th>\n      <th>column</th>\n      <th>bins</th>\n      <th>table_column</th>\n    </tr>\n  </thead>\n  <tbody>\n  </tbody>\n</table>\n</div>"
     },
     "execution_count": 63,
     "metadata": {},
     "output_type": "execute_result"
    }
   ],
   "source": [
    "hist_file = pd.DataFrame(columns=['table','column','bins','table_column'])\n",
    "hist_file"
   ],
   "metadata": {
    "collapsed": false,
    "pycharm": {
     "name": "#%%\n"
    }
   }
  },
  {
   "cell_type": "code",
   "execution_count": 65,
   "outputs": [
    {
     "name": "stdout",
     "output_type": "stream",
     "text": [
      "0.0\n"
     ]
    },
    {
     "ename": "KeyboardInterrupt",
     "evalue": "",
     "output_type": "error",
     "traceback": [
      "\u001B[1;31m---------------------------------------------------------------------------\u001B[0m",
      "\u001B[1;31mKeyboardInterrupt\u001B[0m                         Traceback (most recent call last)",
      "\u001B[1;32m~\\AppData\\Local\\Temp/ipykernel_17992/950984765.py\u001B[0m in \u001B[0;36m<module>\u001B[1;34m\u001B[0m\n\u001B[0;32m      7\u001B[0m         \u001B[0mhists\u001B[0m \u001B[1;33m=\u001B[0m \u001B[0mnp\u001B[0m\u001B[1;33m.\u001B[0m\u001B[0mnanpercentile\u001B[0m\u001B[1;33m(\u001B[0m\u001B[0mcol_array\u001B[0m\u001B[1;33m,\u001B[0m \u001B[0mrange\u001B[0m\u001B[1;33m(\u001B[0m\u001B[1;36m0\u001B[0m\u001B[1;33m,\u001B[0m \u001B[1;36m101\u001B[0m\u001B[1;33m,\u001B[0m \u001B[1;36m2\u001B[0m\u001B[1;33m)\u001B[0m\u001B[1;33m,\u001B[0m \u001B[0maxis\u001B[0m\u001B[1;33m=\u001B[0m\u001B[1;36m0\u001B[0m\u001B[1;33m)\u001B[0m\u001B[1;33m\u001B[0m\u001B[1;33m\u001B[0m\u001B[0m\n\u001B[0;32m      8\u001B[0m         \u001B[1;32mfor\u001B[0m \u001B[0mh\u001B[0m \u001B[1;32min\u001B[0m \u001B[0mhists\u001B[0m\u001B[1;33m:\u001B[0m\u001B[1;33m\u001B[0m\u001B[1;33m\u001B[0m\u001B[0m\n\u001B[1;32m----> 9\u001B[1;33m             \u001B[0mprint\u001B[0m\u001B[1;33m(\u001B[0m\u001B[0mh\u001B[0m\u001B[1;33m)\u001B[0m\u001B[1;33m\u001B[0m\u001B[1;33m\u001B[0m\u001B[0m\n\u001B[0m\u001B[0;32m     10\u001B[0m         res_dict = {\n\u001B[0;32m     11\u001B[0m             \u001B[1;34m'table'\u001B[0m\u001B[1;33m:\u001B[0m\u001B[0mtable\u001B[0m\u001B[1;33m,\u001B[0m\u001B[1;33m\u001B[0m\u001B[1;33m\u001B[0m\u001B[0m\n",
      "\u001B[1;32m~\\AppData\\Local\\Temp/ipykernel_17992/950984765.py\u001B[0m in \u001B[0;36m<module>\u001B[1;34m\u001B[0m\n\u001B[0;32m      7\u001B[0m         \u001B[0mhists\u001B[0m \u001B[1;33m=\u001B[0m \u001B[0mnp\u001B[0m\u001B[1;33m.\u001B[0m\u001B[0mnanpercentile\u001B[0m\u001B[1;33m(\u001B[0m\u001B[0mcol_array\u001B[0m\u001B[1;33m,\u001B[0m \u001B[0mrange\u001B[0m\u001B[1;33m(\u001B[0m\u001B[1;36m0\u001B[0m\u001B[1;33m,\u001B[0m \u001B[1;36m101\u001B[0m\u001B[1;33m,\u001B[0m \u001B[1;36m2\u001B[0m\u001B[1;33m)\u001B[0m\u001B[1;33m,\u001B[0m \u001B[0maxis\u001B[0m\u001B[1;33m=\u001B[0m\u001B[1;36m0\u001B[0m\u001B[1;33m)\u001B[0m\u001B[1;33m\u001B[0m\u001B[1;33m\u001B[0m\u001B[0m\n\u001B[0;32m      8\u001B[0m         \u001B[1;32mfor\u001B[0m \u001B[0mh\u001B[0m \u001B[1;32min\u001B[0m \u001B[0mhists\u001B[0m\u001B[1;33m:\u001B[0m\u001B[1;33m\u001B[0m\u001B[1;33m\u001B[0m\u001B[0m\n\u001B[1;32m----> 9\u001B[1;33m             \u001B[0mprint\u001B[0m\u001B[1;33m(\u001B[0m\u001B[0mh\u001B[0m\u001B[1;33m)\u001B[0m\u001B[1;33m\u001B[0m\u001B[1;33m\u001B[0m\u001B[0m\n\u001B[0m\u001B[0;32m     10\u001B[0m         res_dict = {\n\u001B[0;32m     11\u001B[0m             \u001B[1;34m'table'\u001B[0m\u001B[1;33m:\u001B[0m\u001B[0mtable\u001B[0m\u001B[1;33m,\u001B[0m\u001B[1;33m\u001B[0m\u001B[1;33m\u001B[0m\u001B[0m\n",
      "\u001B[1;32m_pydevd_bundle\\pydevd_cython_win32_39_64.pyx\u001B[0m in \u001B[0;36m_pydevd_bundle.pydevd_cython_win32_39_64.SafeCallWrapper.__call__\u001B[1;34m()\u001B[0m\n",
      "\u001B[1;32m_pydevd_bundle\\pydevd_cython_win32_39_64.pyx\u001B[0m in \u001B[0;36m_pydevd_bundle.pydevd_cython_win32_39_64.PyDBFrame.trace_dispatch\u001B[1;34m()\u001B[0m\n",
      "\u001B[1;32m_pydevd_bundle\\pydevd_cython_win32_39_64.pyx\u001B[0m in \u001B[0;36m_pydevd_bundle.pydevd_cython_win32_39_64.PyDBFrame.trace_dispatch\u001B[1;34m()\u001B[0m\n",
      "\u001B[1;32m_pydevd_bundle\\pydevd_cython_win32_39_64.pyx\u001B[0m in \u001B[0;36m_pydevd_bundle.pydevd_cython_win32_39_64.PyDBFrame.trace_dispatch\u001B[1;34m()\u001B[0m\n",
      "\u001B[1;32mD:\\JetBrains\\PyCharm 2021.3.1\\plugins\\python\\helpers-pro\\jupyter_debug\\pydev_jupyter_plugin.py\u001B[0m in \u001B[0;36mstop\u001B[1;34m(plugin, pydb, frame, event, args, stop_info, arg, step_cmd)\u001B[0m\n\u001B[0;32m    163\u001B[0m         \u001B[0mframe\u001B[0m \u001B[1;33m=\u001B[0m \u001B[0msuspend_jupyter\u001B[0m\u001B[1;33m(\u001B[0m\u001B[0mmain_debugger\u001B[0m\u001B[1;33m,\u001B[0m \u001B[0mthread\u001B[0m\u001B[1;33m,\u001B[0m \u001B[0mframe\u001B[0m\u001B[1;33m,\u001B[0m \u001B[0mstep_cmd\u001B[0m\u001B[1;33m)\u001B[0m\u001B[1;33m\u001B[0m\u001B[1;33m\u001B[0m\u001B[0m\n\u001B[0;32m    164\u001B[0m         \u001B[1;32mif\u001B[0m \u001B[0mframe\u001B[0m\u001B[1;33m:\u001B[0m\u001B[1;33m\u001B[0m\u001B[1;33m\u001B[0m\u001B[0m\n\u001B[1;32m--> 165\u001B[1;33m             \u001B[0mmain_debugger\u001B[0m\u001B[1;33m.\u001B[0m\u001B[0mdo_wait_suspend\u001B[0m\u001B[1;33m(\u001B[0m\u001B[0mthread\u001B[0m\u001B[1;33m,\u001B[0m \u001B[0mframe\u001B[0m\u001B[1;33m,\u001B[0m \u001B[0mevent\u001B[0m\u001B[1;33m,\u001B[0m \u001B[0marg\u001B[0m\u001B[1;33m)\u001B[0m\u001B[1;33m\u001B[0m\u001B[1;33m\u001B[0m\u001B[0m\n\u001B[0m\u001B[0;32m    166\u001B[0m             \u001B[1;32mreturn\u001B[0m \u001B[1;32mTrue\u001B[0m\u001B[1;33m\u001B[0m\u001B[1;33m\u001B[0m\u001B[0m\n\u001B[0;32m    167\u001B[0m     \u001B[1;32mreturn\u001B[0m \u001B[1;32mFalse\u001B[0m\u001B[1;33m\u001B[0m\u001B[1;33m\u001B[0m\u001B[0m\n",
      "\u001B[1;32mD:\\JetBrains\\PyCharm 2021.3.1\\plugins\\python\\helpers\\pydev\\pydevd.py\u001B[0m in \u001B[0;36mdo_wait_suspend\u001B[1;34m(self, thread, frame, event, arg, send_suspend_message, is_unhandled_exception)\u001B[0m\n\u001B[0;32m   1145\u001B[0m \u001B[1;33m\u001B[0m\u001B[0m\n\u001B[0;32m   1146\u001B[0m         \u001B[1;32mwith\u001B[0m \u001B[0mself\u001B[0m\u001B[1;33m.\u001B[0m\u001B[0m_threads_suspended_single_notification\u001B[0m\u001B[1;33m.\u001B[0m\u001B[0mnotify_thread_suspended\u001B[0m\u001B[1;33m(\u001B[0m\u001B[0mthread_id\u001B[0m\u001B[1;33m,\u001B[0m \u001B[0mstop_reason\u001B[0m\u001B[1;33m)\u001B[0m\u001B[1;33m:\u001B[0m\u001B[1;33m\u001B[0m\u001B[1;33m\u001B[0m\u001B[0m\n\u001B[1;32m-> 1147\u001B[1;33m             \u001B[0mself\u001B[0m\u001B[1;33m.\u001B[0m\u001B[0m_do_wait_suspend\u001B[0m\u001B[1;33m(\u001B[0m\u001B[0mthread\u001B[0m\u001B[1;33m,\u001B[0m \u001B[0mframe\u001B[0m\u001B[1;33m,\u001B[0m \u001B[0mevent\u001B[0m\u001B[1;33m,\u001B[0m \u001B[0marg\u001B[0m\u001B[1;33m,\u001B[0m \u001B[0msuspend_type\u001B[0m\u001B[1;33m,\u001B[0m \u001B[0mfrom_this_thread\u001B[0m\u001B[1;33m)\u001B[0m\u001B[1;33m\u001B[0m\u001B[1;33m\u001B[0m\u001B[0m\n\u001B[0m\u001B[0;32m   1148\u001B[0m \u001B[1;33m\u001B[0m\u001B[0m\n\u001B[0;32m   1149\u001B[0m     \u001B[1;32mdef\u001B[0m \u001B[0m_do_wait_suspend\u001B[0m\u001B[1;33m(\u001B[0m\u001B[0mself\u001B[0m\u001B[1;33m,\u001B[0m \u001B[0mthread\u001B[0m\u001B[1;33m,\u001B[0m \u001B[0mframe\u001B[0m\u001B[1;33m,\u001B[0m \u001B[0mevent\u001B[0m\u001B[1;33m,\u001B[0m \u001B[0marg\u001B[0m\u001B[1;33m,\u001B[0m \u001B[0msuspend_type\u001B[0m\u001B[1;33m,\u001B[0m \u001B[0mfrom_this_thread\u001B[0m\u001B[1;33m)\u001B[0m\u001B[1;33m:\u001B[0m\u001B[1;33m\u001B[0m\u001B[1;33m\u001B[0m\u001B[0m\n",
      "\u001B[1;32mD:\\JetBrains\\PyCharm 2021.3.1\\plugins\\python\\helpers\\pydev\\pydevd.py\u001B[0m in \u001B[0;36m_do_wait_suspend\u001B[1;34m(self, thread, frame, event, arg, suspend_type, from_this_thread)\u001B[0m\n\u001B[0;32m   1160\u001B[0m \u001B[1;33m\u001B[0m\u001B[0m\n\u001B[0;32m   1161\u001B[0m                 \u001B[0mself\u001B[0m\u001B[1;33m.\u001B[0m\u001B[0mprocess_internal_commands\u001B[0m\u001B[1;33m(\u001B[0m\u001B[1;33m)\u001B[0m\u001B[1;33m\u001B[0m\u001B[1;33m\u001B[0m\u001B[0m\n\u001B[1;32m-> 1162\u001B[1;33m                 \u001B[0mtime\u001B[0m\u001B[1;33m.\u001B[0m\u001B[0msleep\u001B[0m\u001B[1;33m(\u001B[0m\u001B[1;36m0.01\u001B[0m\u001B[1;33m)\u001B[0m\u001B[1;33m\u001B[0m\u001B[1;33m\u001B[0m\u001B[0m\n\u001B[0m\u001B[0;32m   1163\u001B[0m \u001B[1;33m\u001B[0m\u001B[0m\n\u001B[0;32m   1164\u001B[0m         \u001B[0mself\u001B[0m\u001B[1;33m.\u001B[0m\u001B[0mcancel_async_evaluation\u001B[0m\u001B[1;33m(\u001B[0m\u001B[0mget_current_thread_id\u001B[0m\u001B[1;33m(\u001B[0m\u001B[0mthread\u001B[0m\u001B[1;33m)\u001B[0m\u001B[1;33m,\u001B[0m \u001B[0mstr\u001B[0m\u001B[1;33m(\u001B[0m\u001B[0mid\u001B[0m\u001B[1;33m(\u001B[0m\u001B[0mframe\u001B[0m\u001B[1;33m)\u001B[0m\u001B[1;33m)\u001B[0m\u001B[1;33m)\u001B[0m\u001B[1;33m\u001B[0m\u001B[1;33m\u001B[0m\u001B[0m\n",
      "\u001B[1;31mKeyboardInterrupt\u001B[0m: "
     ]
    }
   ],
   "source": [
    "for table, columns in forest_schema.items():\n",
    "    for column in columns:\n",
    "        cmd = 'select {} from {}'.format(column, table)\n",
    "        cur.execute(cmd)\n",
    "        col = cur.fetchall()\n",
    "        col_array = to_vals(col)\n",
    "        hists = np.nanpercentile(col_array, range(0, 101, 2), axis=0)\n",
    "        for h in hists:\n",
    "            print(h)\n",
    "        res_dict = {\n",
    "            'table':table,\n",
    "            'column':column,\n",
    "            'table_column': '.'.join((table, column)),\n",
    "            'bins':hists\n",
    "        }\n",
    "        hist_file = hist_file.append(res_dict,ignore_index=True)"
   ],
   "metadata": {
    "collapsed": false,
    "pycharm": {
     "name": "#%%\n"
    }
   }
  },
  {
   "cell_type": "code",
   "execution_count": 14,
   "outputs": [
    {
     "data": {
      "text/plain": "    table                                     column  \\\n0  forest                      forest.Hillshade_Noon   \n1  forest                       forest.Hillshade_3pm   \n2  forest    forest.Horizontal_Distance_To_Hydrology   \n3  forest                              forest.Aspect   \n4  forest     forest.Horizontal_Distance_To_Roadways   \n5  forest                           forest.Elevation   \n6  forest  forest.Horizontal_Distance_To_Fire_Points   \n7  forest                       forest.Hillshade_9am   \n8  forest      forest.Vertical_Distance_To_Hydrology   \n9  forest                               forest.Slope   \n\n                                                bins  \\\n0  [0.0, 172.0, 183.0, 189.0, 194.0, 198.0, 201.0...   \n1  [0.0, 56.0, 72.0, 82.0, 89.0, 95.0, 99.0, 103....   \n2  [0.0, 0.0, 0.0, 30.0, 30.0, 30.0, 42.0, 60.0, ...   \n3  [0.0, 4.0, 9.0, 14.0, 19.0, 24.0, 29.0, 33.0, ...   \n4  [0.0, 212.0, 330.0, 424.0, 510.0, 591.0, 663.0...   \n5  [1859.0, 2227.0, 2356.0, 2452.0, 2530.0, 2581....   \n6  [0.0, 258.0, 366.0, 454.0, 531.0, 595.0, 658.0...   \n7  [0.0, 140.0, 155.0, 164.0, 171.0, 176.0, 181.0...   \n8  [-173.0, -26.0, -11.0, -6.0, -2.0, 0.0, 0.0, 0...   \n9  [0.0, 2.0, 3.0, 4.0, 5.0, 5.0, 6.0, 6.0, 7.0, ...   \n\n                                       table_column  \n0                      forest.forest.Hillshade_Noon  \n1                       forest.forest.Hillshade_3pm  \n2    forest.forest.Horizontal_Distance_To_Hydrology  \n3                              forest.forest.Aspect  \n4     forest.forest.Horizontal_Distance_To_Roadways  \n5                           forest.forest.Elevation  \n6  forest.forest.Horizontal_Distance_To_Fire_Points  \n7                       forest.forest.Hillshade_9am  \n8      forest.forest.Vertical_Distance_To_Hydrology  \n9                               forest.forest.Slope  ",
      "text/html": "<div>\n<style scoped>\n    .dataframe tbody tr th:only-of-type {\n        vertical-align: middle;\n    }\n\n    .dataframe tbody tr th {\n        vertical-align: top;\n    }\n\n    .dataframe thead th {\n        text-align: right;\n    }\n</style>\n<table border=\"1\" class=\"dataframe\">\n  <thead>\n    <tr style=\"text-align: right;\">\n      <th></th>\n      <th>table</th>\n      <th>column</th>\n      <th>bins</th>\n      <th>table_column</th>\n    </tr>\n  </thead>\n  <tbody>\n    <tr>\n      <th>0</th>\n      <td>forest</td>\n      <td>forest.Hillshade_Noon</td>\n      <td>[0.0, 172.0, 183.0, 189.0, 194.0, 198.0, 201.0...</td>\n      <td>forest.forest.Hillshade_Noon</td>\n    </tr>\n    <tr>\n      <th>1</th>\n      <td>forest</td>\n      <td>forest.Hillshade_3pm</td>\n      <td>[0.0, 56.0, 72.0, 82.0, 89.0, 95.0, 99.0, 103....</td>\n      <td>forest.forest.Hillshade_3pm</td>\n    </tr>\n    <tr>\n      <th>2</th>\n      <td>forest</td>\n      <td>forest.Horizontal_Distance_To_Hydrology</td>\n      <td>[0.0, 0.0, 0.0, 30.0, 30.0, 30.0, 42.0, 60.0, ...</td>\n      <td>forest.forest.Horizontal_Distance_To_Hydrology</td>\n    </tr>\n    <tr>\n      <th>3</th>\n      <td>forest</td>\n      <td>forest.Aspect</td>\n      <td>[0.0, 4.0, 9.0, 14.0, 19.0, 24.0, 29.0, 33.0, ...</td>\n      <td>forest.forest.Aspect</td>\n    </tr>\n    <tr>\n      <th>4</th>\n      <td>forest</td>\n      <td>forest.Horizontal_Distance_To_Roadways</td>\n      <td>[0.0, 212.0, 330.0, 424.0, 510.0, 591.0, 663.0...</td>\n      <td>forest.forest.Horizontal_Distance_To_Roadways</td>\n    </tr>\n    <tr>\n      <th>5</th>\n      <td>forest</td>\n      <td>forest.Elevation</td>\n      <td>[1859.0, 2227.0, 2356.0, 2452.0, 2530.0, 2581....</td>\n      <td>forest.forest.Elevation</td>\n    </tr>\n    <tr>\n      <th>6</th>\n      <td>forest</td>\n      <td>forest.Horizontal_Distance_To_Fire_Points</td>\n      <td>[0.0, 258.0, 366.0, 454.0, 531.0, 595.0, 658.0...</td>\n      <td>forest.forest.Horizontal_Distance_To_Fire_Points</td>\n    </tr>\n    <tr>\n      <th>7</th>\n      <td>forest</td>\n      <td>forest.Hillshade_9am</td>\n      <td>[0.0, 140.0, 155.0, 164.0, 171.0, 176.0, 181.0...</td>\n      <td>forest.forest.Hillshade_9am</td>\n    </tr>\n    <tr>\n      <th>8</th>\n      <td>forest</td>\n      <td>forest.Vertical_Distance_To_Hydrology</td>\n      <td>[-173.0, -26.0, -11.0, -6.0, -2.0, 0.0, 0.0, 0...</td>\n      <td>forest.forest.Vertical_Distance_To_Hydrology</td>\n    </tr>\n    <tr>\n      <th>9</th>\n      <td>forest</td>\n      <td>forest.Slope</td>\n      <td>[0.0, 2.0, 3.0, 4.0, 5.0, 5.0, 6.0, 6.0, 7.0, ...</td>\n      <td>forest.forest.Slope</td>\n    </tr>\n  </tbody>\n</table>\n</div>"
     },
     "execution_count": 14,
     "metadata": {},
     "output_type": "execute_result"
    }
   ],
   "source": [
    "hist_file"
   ],
   "metadata": {
    "collapsed": false,
    "pycharm": {
     "name": "#%%\n"
    }
   }
  },
  {
   "cell_type": "code",
   "execution_count": 18,
   "outputs": [
    {
     "name": "stdout",
     "output_type": "stream",
     "text": [
      "<class 'pandas.core.frame.DataFrame'>\n"
     ]
    }
   ],
   "source": [
    "print(type(hist_file))"
   ],
   "metadata": {
    "collapsed": false,
    "pycharm": {
     "name": "#%%\n"
    }
   }
  },
  {
   "cell_type": "code",
   "execution_count": 19,
   "outputs": [
    {
     "data": {
      "text/plain": "0    [0.0, 172.0, 183.0, 189.0, 194.0, 198.0, 201.0...\n1    [0.0, 56.0, 72.0, 82.0, 89.0, 95.0, 99.0, 103....\n2    [0.0, 0.0, 0.0, 30.0, 30.0, 30.0, 42.0, 60.0, ...\n3    [0.0, 4.0, 9.0, 14.0, 19.0, 24.0, 29.0, 33.0, ...\n4    [0.0, 212.0, 330.0, 424.0, 510.0, 591.0, 663.0...\n5    [1859.0, 2227.0, 2356.0, 2452.0, 2530.0, 2581....\n6    [0.0, 258.0, 366.0, 454.0, 531.0, 595.0, 658.0...\n7    [0.0, 140.0, 155.0, 164.0, 171.0, 176.0, 181.0...\n8    [-173.0, -26.0, -11.0, -6.0, -2.0, 0.0, 0.0, 0...\n9    [0.0, 2.0, 3.0, 4.0, 5.0, 5.0, 6.0, 6.0, 7.0, ...\nName: bins, dtype: object"
     },
     "execution_count": 19,
     "metadata": {},
     "output_type": "execute_result"
    }
   ],
   "source": [
    "hist_file['bins']"
   ],
   "metadata": {
    "collapsed": false,
    "pycharm": {
     "name": "#%%\n"
    }
   }
  },
  {
   "cell_type": "code",
   "execution_count": 24,
   "outputs": [],
   "source": [
    "outputpath = \"D:\\CECode\\importForestAndPower\\\\forest_histogram.csv\"\n",
    "hist_file.to_csv(outputpath,sep=',',index=False,header=False)"
   ],
   "metadata": {
    "collapsed": false,
    "pycharm": {
     "name": "#%%\n"
    }
   }
  },
  {
   "cell_type": "code",
   "execution_count": 52,
   "outputs": [
    {
     "name": "stdout",
     "output_type": "stream",
     "text": [
      "forest.Hillshade_Noon [  0. 172. 183. 189. 194. 198. 201. 203. 206. 207. 209. 211. 212. 214.\n",
      " 215. 216. 217. 218. 219. 220. 221. 222. 223. 224. 225. 226. 227. 228.\n",
      " 229. 229. 230. 231. 232. 233. 234. 235. 236. 237. 238. 239. 240. 241.\n",
      " 243. 244. 245. 247. 248. 250. 251. 253. 254.]\n",
      "forest.Hillshade_3pm [  0.  56.  72.  82.  89.  95.  99. 103. 107. 110. 113. 116. 118. 120.\n",
      " 122. 125. 127. 129. 130. 132. 134. 136. 138. 139. 141. 143. 145. 146.\n",
      " 148. 150. 152. 154. 156. 158. 160. 162. 165. 167. 170. 172. 175. 178.\n",
      " 181. 184. 187. 191. 196. 201. 208. 218. 254.]\n",
      "forest.Horizontal_Distance_To_Hydrology [   0.    0.    0.   30.   30.   30.   42.   60.   67.   67.   85.   90.\n",
      "   95.  108.  120.  124.  134.  150.  150.  162.  175.  182.  192.  201.\n",
      "  212.  218.  234.  242.  256.  268.  277.  295.  300.  319.  330.  342.\n",
      "  361.  376.  391.  408.  430.  451.  474.  503.  531.  564.  601.  655.\n",
      "  721.  834. 1397.]\n",
      "forest.Aspect [  0.   4.   9.  14.  19.  24.  29.  33.  38.  43.  47.  51.  56.  61.\n",
      "  65.  70.  75.  80.  85.  90.  96. 102. 108. 114. 120. 127. 135. 142.\n",
      " 150. 159. 169. 180. 190. 202. 213. 226. 240. 254. 267. 278. 289. 299.\n",
      " 308. 315. 322. 329. 335. 341. 347. 353. 360.]\n",
      "forest.Horizontal_Distance_To_Roadways [   0.  212.  330.  424.  510.  591.  663.  741.  810.  875.  942. 1008.\n",
      " 1074. 1138. 1200. 1261. 1324. 1390. 1456. 1529. 1597. 1671. 1746. 1830.\n",
      " 1913. 1997. 2083. 2173. 2268. 2363. 2461. 2564. 2673. 2789. 2900. 3015.\n",
      " 3132. 3257. 3398. 3557. 3739. 3930. 4124. 4325. 4537. 4793. 5074. 5343.\n",
      " 5621. 5911. 7117.]\n",
      "forest.Elevation [1859. 2227. 2356. 2452. 2530. 2581. 2622. 2661. 2697. 2724. 2751. 2775.\n",
      " 2798. 2820. 2841. 2860. 2878. 2895. 2910. 2925. 2938. 2950. 2962. 2973.\n",
      " 2984. 2996. 3008. 3020. 3032. 3045. 3059. 3073. 3086. 3101. 3115. 3129.\n",
      " 3142. 3156. 3171. 3184. 3198. 3211. 3225. 3240. 3255. 3272. 3292. 3318.\n",
      " 3356. 3399. 3858.]\n",
      "forest.Horizontal_Distance_To_Fire_Points [   0.  258.  366.  454.  531.  595.  658.  716.  774.  832.  888.  942.\n",
      "  997. 1050. 1106. 1159. 1215. 1269. 1323. 1377. 1426. 1482. 1537. 1594.\n",
      " 1651. 1710. 1771. 1830. 1892. 1954. 2018. 2084. 2151. 2221. 2290. 2363.\n",
      " 2436. 2512. 2589. 2672. 2762. 2871. 3010. 3199. 3427. 3747. 4149. 4664.\n",
      " 5252. 5905. 7173.]\n",
      "forest.Hillshade_9am [  0. 140. 155. 164. 171. 176. 181. 184. 187. 190. 193. 195. 197. 199.\n",
      " 201. 203. 205. 207. 208. 210. 211. 213. 214. 215. 216. 218. 219. 220.\n",
      " 221. 222. 223. 224. 225. 226. 228. 229. 230. 231. 232. 233. 234. 235.\n",
      " 237. 238. 239. 241. 243. 245. 247. 250. 254.]\n",
      "forest.Vertical_Distance_To_Hydrology [-173.  -26.  -11.   -6.   -2.    0.    0.    0.    0.    2.    3.    5.\n",
      "    6.    8.    9.   11.   12.   14.   16.   17.   19.   21.   23.   25.\n",
      "   27.   30.   32.   34.   37.   39.   42.   45.   48.   52.   55.   59.\n",
      "   62.   66.   71.   76.   81.   87.   94.  102.  111.  121.  135.  154.\n",
      "  178.  213.  601.]\n",
      "forest.Slope [ 0.  2.  3.  4.  5.  5.  6.  6.  7.  7.  8.  8.  8.  9.  9. 10. 10. 10.\n",
      " 11. 11. 11. 12. 12. 12. 13. 13. 13. 14. 14. 14. 15. 15. 16. 16. 17. 17.\n",
      " 18. 18. 19. 19. 20. 21. 22. 22. 23. 24. 26. 27. 30. 33. 66.]\n"
     ]
    }
   ],
   "source": [
    "for column, bins in zip(hist_file['column'], hist_file['bins']):\n",
    "    print(column, bins)"
   ],
   "metadata": {
    "collapsed": false,
    "pycharm": {
     "name": "#%%\n"
    }
   }
  },
  {
   "cell_type": "code",
   "execution_count": null,
   "outputs": [],
   "source": [],
   "metadata": {
    "collapsed": false,
    "pycharm": {
     "name": "#%%\n"
    }
   }
  }
 ],
 "metadata": {
  "kernelspec": {
   "display_name": "Python 3",
   "language": "python",
   "name": "python3"
  },
  "language_info": {
   "codemirror_mode": {
    "name": "ipython",
    "version": 2
   },
   "file_extension": ".py",
   "mimetype": "text/x-python",
   "name": "python",
   "nbconvert_exporter": "python",
   "pygments_lexer": "ipython2",
   "version": "2.7.6"
  }
 },
 "nbformat": 4,
 "nbformat_minor": 0
}